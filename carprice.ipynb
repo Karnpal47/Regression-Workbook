{
 "cells": [
  {
   "cell_type": "code",
   "execution_count": 123,
   "metadata": {},
   "outputs": [],
   "source": [
    "import numpy as np\n",
    "import pandas as pd\n",
    "import matplotlib.pyplot as plt\n",
    "import seaborn as sns"
   ]
  },
  {
   "cell_type": "code",
   "execution_count": 124,
   "metadata": {},
   "outputs": [],
   "source": [
    "import warnings\n",
    "warnings.filterwarnings('ignore')"
   ]
  },
  {
   "cell_type": "code",
   "execution_count": 125,
   "metadata": {},
   "outputs": [],
   "source": [
    "df=pd.read_csv(r\"C:\\Users\\Admin\\OneDrive\\Desktop\\ML Projects\\Car price pred\\carpricepred.csv\")"
   ]
  },
  {
   "cell_type": "code",
   "execution_count": 126,
   "metadata": {},
   "outputs": [
    {
     "data": {
      "text/html": [
       "<div>\n",
       "<style scoped>\n",
       "    .dataframe tbody tr th:only-of-type {\n",
       "        vertical-align: middle;\n",
       "    }\n",
       "\n",
       "    .dataframe tbody tr th {\n",
       "        vertical-align: top;\n",
       "    }\n",
       "\n",
       "    .dataframe thead th {\n",
       "        text-align: right;\n",
       "    }\n",
       "</style>\n",
       "<table border=\"1\" class=\"dataframe\">\n",
       "  <thead>\n",
       "    <tr style=\"text-align: right;\">\n",
       "      <th></th>\n",
       "      <th>name</th>\n",
       "      <th>year</th>\n",
       "      <th>selling_price</th>\n",
       "      <th>km_driven</th>\n",
       "      <th>fuel</th>\n",
       "      <th>seller_type</th>\n",
       "      <th>transmission</th>\n",
       "      <th>owner</th>\n",
       "      <th>mileage kmpl/kg</th>\n",
       "      <th>Unnamed: 9</th>\n",
       "      <th>max_power bhp</th>\n",
       "      <th>Unnamed: 11</th>\n",
       "      <th>seats</th>\n",
       "    </tr>\n",
       "  </thead>\n",
       "  <tbody>\n",
       "    <tr>\n",
       "      <th>0</th>\n",
       "      <td>Maruti Swift Dzire VDI</td>\n",
       "      <td>2014</td>\n",
       "      <td>450000</td>\n",
       "      <td>145500</td>\n",
       "      <td>Diesel</td>\n",
       "      <td>Individual</td>\n",
       "      <td>Manual</td>\n",
       "      <td>First Owner</td>\n",
       "      <td>23.40</td>\n",
       "      <td>NaN</td>\n",
       "      <td>74.00</td>\n",
       "      <td>NaN</td>\n",
       "      <td>5.0</td>\n",
       "    </tr>\n",
       "    <tr>\n",
       "      <th>1</th>\n",
       "      <td>Skoda Rapid 1.5 TDI Ambition</td>\n",
       "      <td>2014</td>\n",
       "      <td>370000</td>\n",
       "      <td>120000</td>\n",
       "      <td>Diesel</td>\n",
       "      <td>Individual</td>\n",
       "      <td>Manual</td>\n",
       "      <td>Second Owner</td>\n",
       "      <td>21.14</td>\n",
       "      <td>NaN</td>\n",
       "      <td>103.52</td>\n",
       "      <td>NaN</td>\n",
       "      <td>5.0</td>\n",
       "    </tr>\n",
       "  </tbody>\n",
       "</table>\n",
       "</div>"
      ],
      "text/plain": [
       "                           name  year  selling_price  km_driven    fuel  \\\n",
       "0        Maruti Swift Dzire VDI  2014         450000     145500  Diesel   \n",
       "1  Skoda Rapid 1.5 TDI Ambition  2014         370000     120000  Diesel   \n",
       "\n",
       "  seller_type transmission         owner  mileage kmpl/kg  Unnamed: 9  \\\n",
       "0  Individual       Manual   First Owner            23.40         NaN   \n",
       "1  Individual       Manual  Second Owner            21.14         NaN   \n",
       "\n",
       "   max_power bhp  Unnamed: 11  seats  \n",
       "0          74.00          NaN    5.0  \n",
       "1         103.52          NaN    5.0  "
      ]
     },
     "execution_count": 126,
     "metadata": {},
     "output_type": "execute_result"
    }
   ],
   "source": [
    "df.head(2)"
   ]
  },
  {
   "cell_type": "code",
   "execution_count": 127,
   "metadata": {},
   "outputs": [],
   "source": [
    "df.drop(['Unnamed: 9','Unnamed: 11'],inplace=True,axis=1)"
   ]
  },
  {
   "cell_type": "code",
   "execution_count": 128,
   "metadata": {},
   "outputs": [
    {
     "data": {
      "text/html": [
       "<div>\n",
       "<style scoped>\n",
       "    .dataframe tbody tr th:only-of-type {\n",
       "        vertical-align: middle;\n",
       "    }\n",
       "\n",
       "    .dataframe tbody tr th {\n",
       "        vertical-align: top;\n",
       "    }\n",
       "\n",
       "    .dataframe thead th {\n",
       "        text-align: right;\n",
       "    }\n",
       "</style>\n",
       "<table border=\"1\" class=\"dataframe\">\n",
       "  <thead>\n",
       "    <tr style=\"text-align: right;\">\n",
       "      <th></th>\n",
       "      <th>name</th>\n",
       "      <th>year</th>\n",
       "      <th>selling_price</th>\n",
       "      <th>km_driven</th>\n",
       "      <th>fuel</th>\n",
       "      <th>seller_type</th>\n",
       "      <th>transmission</th>\n",
       "      <th>owner</th>\n",
       "      <th>mileage kmpl/kg</th>\n",
       "      <th>max_power bhp</th>\n",
       "      <th>seats</th>\n",
       "    </tr>\n",
       "  </thead>\n",
       "  <tbody>\n",
       "    <tr>\n",
       "      <th>0</th>\n",
       "      <td>Maruti Swift Dzire VDI</td>\n",
       "      <td>2014</td>\n",
       "      <td>450000</td>\n",
       "      <td>145500</td>\n",
       "      <td>Diesel</td>\n",
       "      <td>Individual</td>\n",
       "      <td>Manual</td>\n",
       "      <td>First Owner</td>\n",
       "      <td>23.40</td>\n",
       "      <td>74.00</td>\n",
       "      <td>5.0</td>\n",
       "    </tr>\n",
       "    <tr>\n",
       "      <th>1</th>\n",
       "      <td>Skoda Rapid 1.5 TDI Ambition</td>\n",
       "      <td>2014</td>\n",
       "      <td>370000</td>\n",
       "      <td>120000</td>\n",
       "      <td>Diesel</td>\n",
       "      <td>Individual</td>\n",
       "      <td>Manual</td>\n",
       "      <td>Second Owner</td>\n",
       "      <td>21.14</td>\n",
       "      <td>103.52</td>\n",
       "      <td>5.0</td>\n",
       "    </tr>\n",
       "    <tr>\n",
       "      <th>2</th>\n",
       "      <td>Honda City 2017-2020 EXi</td>\n",
       "      <td>2006</td>\n",
       "      <td>158000</td>\n",
       "      <td>140000</td>\n",
       "      <td>Petrol</td>\n",
       "      <td>Individual</td>\n",
       "      <td>Manual</td>\n",
       "      <td>Third Owner</td>\n",
       "      <td>17.70</td>\n",
       "      <td>78.00</td>\n",
       "      <td>5.0</td>\n",
       "    </tr>\n",
       "    <tr>\n",
       "      <th>3</th>\n",
       "      <td>Hyundai i20 Sportz Diesel</td>\n",
       "      <td>2010</td>\n",
       "      <td>225000</td>\n",
       "      <td>127000</td>\n",
       "      <td>Diesel</td>\n",
       "      <td>Individual</td>\n",
       "      <td>Manual</td>\n",
       "      <td>First Owner</td>\n",
       "      <td>23.00</td>\n",
       "      <td>90.00</td>\n",
       "      <td>5.0</td>\n",
       "    </tr>\n",
       "    <tr>\n",
       "      <th>4</th>\n",
       "      <td>Maruti Swift VXI BSIII</td>\n",
       "      <td>2007</td>\n",
       "      <td>130000</td>\n",
       "      <td>120000</td>\n",
       "      <td>Petrol</td>\n",
       "      <td>Individual</td>\n",
       "      <td>Manual</td>\n",
       "      <td>First Owner</td>\n",
       "      <td>16.10</td>\n",
       "      <td>88.20</td>\n",
       "      <td>5.0</td>\n",
       "    </tr>\n",
       "  </tbody>\n",
       "</table>\n",
       "</div>"
      ],
      "text/plain": [
       "                           name  year  selling_price  km_driven    fuel  \\\n",
       "0        Maruti Swift Dzire VDI  2014         450000     145500  Diesel   \n",
       "1  Skoda Rapid 1.5 TDI Ambition  2014         370000     120000  Diesel   \n",
       "2      Honda City 2017-2020 EXi  2006         158000     140000  Petrol   \n",
       "3     Hyundai i20 Sportz Diesel  2010         225000     127000  Diesel   \n",
       "4        Maruti Swift VXI BSIII  2007         130000     120000  Petrol   \n",
       "\n",
       "  seller_type transmission         owner  mileage kmpl/kg  max_power bhp  \\\n",
       "0  Individual       Manual   First Owner            23.40          74.00   \n",
       "1  Individual       Manual  Second Owner            21.14         103.52   \n",
       "2  Individual       Manual   Third Owner            17.70          78.00   \n",
       "3  Individual       Manual   First Owner            23.00          90.00   \n",
       "4  Individual       Manual   First Owner            16.10          88.20   \n",
       "\n",
       "   seats  \n",
       "0    5.0  \n",
       "1    5.0  \n",
       "2    5.0  \n",
       "3    5.0  \n",
       "4    5.0  "
      ]
     },
     "execution_count": 128,
     "metadata": {},
     "output_type": "execute_result"
    }
   ],
   "source": [
    "df.head()"
   ]
  },
  {
   "cell_type": "code",
   "execution_count": 129,
   "metadata": {},
   "outputs": [
    {
     "name": "stdout",
     "output_type": "stream",
     "text": [
      "<class 'pandas.core.frame.DataFrame'>\n",
      "RangeIndex: 8128 entries, 0 to 8127\n",
      "Data columns (total 11 columns):\n",
      " #   Column           Non-Null Count  Dtype  \n",
      "---  ------           --------------  -----  \n",
      " 0   name             8128 non-null   object \n",
      " 1   year             8128 non-null   int64  \n",
      " 2   selling_price    8128 non-null   int64  \n",
      " 3   km_driven        8128 non-null   int64  \n",
      " 4   fuel             8128 non-null   object \n",
      " 5   seller_type      8128 non-null   object \n",
      " 6   transmission     8128 non-null   object \n",
      " 7   owner            8128 non-null   object \n",
      " 8   mileage kmpl/kg  7907 non-null   float64\n",
      " 9   max_power bhp    7912 non-null   float64\n",
      " 10  seats            7908 non-null   float64\n",
      "dtypes: float64(3), int64(3), object(5)\n",
      "memory usage: 698.6+ KB\n"
     ]
    }
   ],
   "source": [
    "df.info()"
   ]
  },
  {
   "cell_type": "code",
   "execution_count": 130,
   "metadata": {},
   "outputs": [
    {
     "data": {
      "text/plain": [
       "array([ 74.   , 103.52 ,  78.   ,  90.   ,  88.2  ,  81.86 ,  57.5  ,\n",
       "        37.   ,  67.1  ,  68.1  , 108.45 ,  60.   ,  73.9  ,     nan,\n",
       "        67.   ,  82.   ,  88.5  ,  46.3  ,  88.73 ,  64.1  ,  98.6  ,\n",
       "        88.8  ,  83.81 ,  83.1  ,  47.3  ,  73.8  ,  34.2  ,  35.   ,\n",
       "        81.83 ,  40.3  , 121.3  , 138.03 , 160.77 , 117.3  , 116.3  ,\n",
       "        83.14 ,  67.05 , 168.5  , 100.   , 120.7  ,  98.63 , 175.56 ,\n",
       "       103.25 , 171.5  , 100.6  , 174.33 , 187.74 , 170.   ,  78.9  ,\n",
       "        88.76 ,  86.8  , 108.495, 108.62 ,  93.7  , 103.6  ,  98.59 ,\n",
       "       189.   ,  67.04 ,  68.05 ,  58.2  ,  82.85 ,  81.8  ,  73.   ,\n",
       "       120.   ,  94.68 , 160.   ,  65.   , 155.   ,  69.01 , 126.32 ,\n",
       "       138.1  ,  83.8  , 126.2  ,  98.96 ,  62.1  ,  86.7  , 188.   ,\n",
       "       214.56 , 177.   , 280.   , 148.31 , 254.79 , 190.   , 177.46 ,\n",
       "       204.   , 141.   , 117.6  , 241.4  , 282.   , 150.   , 147.5  ,\n",
       "       108.5  , 103.5  , 183.   , 181.04 , 157.7  , 164.7  ,  91.1  ,\n",
       "       400.   ,  68.   ,  75.   ,  85.8  ,  87.2  ,  53.   , 118.   ,\n",
       "       103.2  ,  83.   ,  84.   ,  58.16 , 147.94 ,  74.02 ,  53.3  ,\n",
       "        80.   ,  88.7  ,  97.7  , 121.36 , 162.   , 140.   ,  94.   ,\n",
       "       100.57 ,  82.9  ,  83.11 ,  70.   , 153.86 , 121.   , 126.3  ,\n",
       "        73.97 , 171.   ,  69.   ,  99.6  , 102.   , 105.   ,  63.   ,\n",
       "        79.4  ,  97.9  ,  63.1  ,  66.1  , 110.   , 174.5  ,  53.26 ,\n",
       "        73.75 ,  67.06 ,  64.08 ,  37.5  , 189.3  , 158.8  ,  61.7  ,\n",
       "        55.2  ,  71.01 ,  73.74 , 147.9  ,  71.   ,  77.   , 121.4  ,\n",
       "       113.4  ,  47.   , 130.   ,  57.6  , 138.   ,  52.8  ,  53.64 ,\n",
       "        53.5  ,  76.8  ,  82.4  , 113.42 ,  76.   ,  84.8  ,   0.   ,\n",
       "        56.3  , 218.   , 112.   ,  92.   , 105.5  , 169.   ,  95.   ,\n",
       "        72.4  , 115.   , 152.   ,  91.2  , 156.   ,  74.9  ,  62.   ,\n",
       "       105.3  ,  73.94 ,  85.   , 118.3  ,  72.   , 147.51 ,  58.   ,\n",
       "        64.   , 126.24 ,  76.9  , 194.3  ,  99.23 ,  89.84 , 123.7  ,\n",
       "       118.35 ,  99.   , 241.   , 136.   , 261.4  , 104.68 ,  37.48 ,\n",
       "       104.   ,  63.12 ,  91.7  , 102.5  , 177.6  ,  45.   , 123.37 ,\n",
       "       147.8  , 184.   ,  84.48 ,  68.07 ,  74.96 , 167.6  , 152.87 ,\n",
       "       112.2  ,  83.83 , 197.   , 110.4  , 104.55 , 103.   , 103.3  ,\n",
       "        66.   , 108.6  , 165.   , 163.7  , 116.9  ,  94.93 , 127.   ,\n",
       "       198.5  , 179.5  , 120.69 , 121.31 , 138.08 , 187.7  ,  80.8  ,\n",
       "        86.79 ,  93.87 , 116.6  , 143.   ,  92.7  ,  88.   ,  58.33 ,\n",
       "        78.8  ,  64.4  , 125.   , 139.01 , 254.8  , 181.   , 258.   ,\n",
       "        55.23 , 270.9  , 265.   , 157.75 , 101.   , 186.   , 187.4  ,\n",
       "       224.   ,  64.9  , 148.   ,  35.5  ,  89.75 ,  32.8  ,  91.72 ,\n",
       "       106.   ,  98.97 ,  66.6  ,  86.   ,  65.3  ,  98.82 , 198.25 ,\n",
       "        38.   , 142.   , 132.   , 174.57 , 178.   , 163.2  , 203.2  ,\n",
       "       177.5  , 175.   ,  57.   ,  80.84 ,  68.4  , 167.67 , 170.63 ,\n",
       "        52.   , 149.5  ,  48.21 , 201.1  , 100.5  , 144.   , 194.4  ,\n",
       "       168.7  , 104.5  , 103.26 , 116.4  ,  98.79 ,  80.9  ,  58.3  ,\n",
       "       272.   , 235.   , 167.62 , 170.3  , 139.46 , 158.   , 110.5  ,\n",
       "        82.5  , 141.1  ,  38.4  , 197.2  , 161.   , 194.   , 122.4  ,\n",
       "       134.1  ,  60.2  , 134.   , 203.   , 135.1  ])"
      ]
     },
     "execution_count": 130,
     "metadata": {},
     "output_type": "execute_result"
    }
   ],
   "source": [
    "df['max_power bhp'].unique()"
   ]
  },
  {
   "cell_type": "code",
   "execution_count": 131,
   "metadata": {},
   "outputs": [],
   "source": [
    "df['max_power bhp']=df['max_power bhp'].fillna(df['max_power bhp'].mean())"
   ]
  },
  {
   "cell_type": "code",
   "execution_count": 132,
   "metadata": {},
   "outputs": [
    {
     "data": {
      "text/plain": [
       "array([23.4 , 21.14, 17.7 , 23.  , 16.1 , 20.14, 17.3 , 23.59, 20.  ,\n",
       "       19.01, 19.3 ,   nan, 18.9 , 18.15, 24.52, 19.7 , 22.54, 21.  ,\n",
       "       25.5 , 26.59, 21.5 , 20.3 , 21.4 , 24.7 , 18.2 , 16.8 , 24.3 ,\n",
       "       14.  , 18.6 , 33.44, 23.95, 17.  , 20.63, 13.93, 16.  , 17.8 ,\n",
       "       18.5 , 12.55, 12.99, 14.8 , 13.5 , 26.  , 20.65, 27.3 , 11.36,\n",
       "       17.68, 14.28, 18.53, 14.84, 21.12, 20.36, 21.27, 18.16, 22.  ,\n",
       "       25.1 , 20.51, 21.66, 25.2 , 22.9 , 16.02, 20.54, 22.77, 15.71,\n",
       "       23.1 , 19.02, 19.81, 26.2 , 16.47, 15.04, 19.1 , 21.79, 18.8 ,\n",
       "       21.21, 15.37, 11.79, 19.  , 14.3 , 15.8 , 15.1 , 19.09, 22.32,\n",
       "       21.9 , 14.53, 21.63, 20.85, 20.45, 19.67, 23.01, 20.77, 17.92,\n",
       "       17.01, 22.37, 19.33,  9.5 , 12.83, 22.48, 16.78, 14.67, 15.  ,\n",
       "       13.96, 18.  , 12.07, 26.21, 10.8 , 16.3 , 13.6 , 14.74, 15.6 ,\n",
       "       19.56, 22.69, 19.16, 18.12, 12.1 , 17.5 , 42.  , 20.4 , 21.1 ,\n",
       "       19.44, 13.  , 21.43, 22.95, 16.2 , 15.3 , 28.09, 17.4 , 19.4 ,\n",
       "       26.6 , 17.6 , 28.4 , 14.1 , 25.17, 22.74, 17.57, 16.95, 19.49,\n",
       "       17.21, 13.2 , 14.2 , 26.8 , 25.4 , 11.5 , 27.28, 17.97, 12.8 ,\n",
       "       16.55, 12.05, 14.07, 21.02, 11.57, 17.9 , 15.96, 17.1 , 17.19,\n",
       "       21.01, 24.  , 25.6 , 21.38, 23.84, 23.08, 14.24, 20.71, 15.64,\n",
       "       14.5 , 16.34, 27.39, 11.1 , 13.9 , 20.88, 20.92, 23.8 , 24.4 ,\n",
       "       15.29, 21.19, 22.5 , 19.6 , 23.65, 25.32, 23.5 , 16.6 , 23.9 ,\n",
       "       20.8 , 27.62, 12.9 , 25.44, 17.88, 22.7 , 17.2 , 15.42, 19.68,\n",
       "       18.7 , 15.4 , 19.34, 22.71, 25.8 , 13.7 , 12.2 , 18.49,  9.  ,\n",
       "        0.  , 13.58, 10.1 , 20.5 , 25.  , 10.5 , 22.07, 22.3 , 15.26,\n",
       "       20.62, 27.4 , 23.2 , 14.4 , 18.4 , 30.46, 14.02, 11.  , 20.6 ,\n",
       "       22.05, 20.2 , 18.1 , 22.1 , 19.87, 13.01, 18.06, 26.1 , 16.52,\n",
       "       13.55, 24.2 , 25.83, 11.2 , 17.09, 21.03, 17.45, 21.64, 21.94,\n",
       "       13.87, 19.98, 20.52, 23.57, 11.7 , 17.43, 18.88, 13.68, 11.18,\n",
       "       20.89, 11.8 , 19.62, 21.7 , 14.9 , 19.5 , 10.91, 15.7 , 20.73,\n",
       "       15.85, 20.7 , 14.23, 16.5 , 17.36, 12.6 , 16.36, 14.95, 16.9 ,\n",
       "       19.2 , 16.96, 22.15, 18.78, 19.61, 17.71, 18.3 , 19.12, 19.72,\n",
       "       12.  , 11.4 , 23.03, 11.07, 15.9 , 17.67, 20.46, 13.1 , 13.45,\n",
       "       24.8 , 15.73, 15.11, 12.7 , 21.2 , 20.38, 21.56, 13.22, 14.49,\n",
       "       15.05, 23.26, 15.41, 13.8 , 22.27, 32.52, 14.66, 12.12, 16.84,\n",
       "       14.09, 14.7 , 13.4 , 15.5 , 13.49, 11.88, 14.6 , 10.75, 24.5 ,\n",
       "       11.74, 16.07, 15.63, 26.3 , 23.7 , 25.47, 17.05, 23.3 , 11.9 ,\n",
       "       13.38, 20.86, 10.9 , 18.25, 15.2 , 20.37, 21.8 , 11.96, 24.04,\n",
       "       19.69, 13.73, 21.04, 25.01, 10.93, 24.29, 13.44, 20.07, 19.08,\n",
       "       20.34, 11.68, 12.5 , 12.3 , 23.87, 16.38, 17.42, 10.  , 18.24,\n",
       "       10.71, 19.59, 16.7 , 19.83, 21.76, 16.05, 20.28, 16.25, 16.73,\n",
       "       18.48, 14.99, 18.76, 16.4 , 19.64, 14.94, 17.11, 22.8 , 32.26,\n",
       "       33.  , 12.4 , 18.44, 16.09, 12.62, 21.13, 15.17, 21.73, 21.72,\n",
       "       12.85, 14.81, 13.24, 21.49, 14.62, 26.83, 11.45, 12.08, 15.74,\n",
       "       11.3 , 14.21, 11.72, 16.51])"
      ]
     },
     "execution_count": 132,
     "metadata": {},
     "output_type": "execute_result"
    }
   ],
   "source": [
    "df['mileage kmpl/kg'].unique()"
   ]
  },
  {
   "cell_type": "code",
   "execution_count": 133,
   "metadata": {},
   "outputs": [],
   "source": [
    "df['mileage kmpl/kg']=df['mileage kmpl/kg'].fillna(df['mileage kmpl/kg'].mean())"
   ]
  },
  {
   "cell_type": "code",
   "execution_count": 134,
   "metadata": {},
   "outputs": [
    {
     "data": {
      "text/plain": [
       "array([ 5.,  4.,  6.,  7.,  8., nan,  9., 10., 14.,  2.])"
      ]
     },
     "execution_count": 134,
     "metadata": {},
     "output_type": "execute_result"
    }
   ],
   "source": [
    "df['seats'].unique()"
   ]
  },
  {
   "cell_type": "code",
   "execution_count": 135,
   "metadata": {},
   "outputs": [],
   "source": [
    "df['seats']=df['seats'].fillna(df['seats'].mean())"
   ]
  },
  {
   "cell_type": "code",
   "execution_count": 136,
   "metadata": {},
   "outputs": [
    {
     "name": "stdout",
     "output_type": "stream",
     "text": [
      "<class 'pandas.core.frame.DataFrame'>\n",
      "RangeIndex: 8128 entries, 0 to 8127\n",
      "Data columns (total 11 columns):\n",
      " #   Column           Non-Null Count  Dtype  \n",
      "---  ------           --------------  -----  \n",
      " 0   name             8128 non-null   object \n",
      " 1   year             8128 non-null   int64  \n",
      " 2   selling_price    8128 non-null   int64  \n",
      " 3   km_driven        8128 non-null   int64  \n",
      " 4   fuel             8128 non-null   object \n",
      " 5   seller_type      8128 non-null   object \n",
      " 6   transmission     8128 non-null   object \n",
      " 7   owner            8128 non-null   object \n",
      " 8   mileage kmpl/kg  8128 non-null   float64\n",
      " 9   max_power bhp    8128 non-null   float64\n",
      " 10  seats            8128 non-null   float64\n",
      "dtypes: float64(3), int64(3), object(5)\n",
      "memory usage: 698.6+ KB\n"
     ]
    }
   ],
   "source": [
    "df.info()"
   ]
  },
  {
   "cell_type": "code",
   "execution_count": 137,
   "metadata": {},
   "outputs": [
    {
     "data": {
      "text/html": [
       "<div>\n",
       "<style scoped>\n",
       "    .dataframe tbody tr th:only-of-type {\n",
       "        vertical-align: middle;\n",
       "    }\n",
       "\n",
       "    .dataframe tbody tr th {\n",
       "        vertical-align: top;\n",
       "    }\n",
       "\n",
       "    .dataframe thead th {\n",
       "        text-align: right;\n",
       "    }\n",
       "</style>\n",
       "<table border=\"1\" class=\"dataframe\">\n",
       "  <thead>\n",
       "    <tr style=\"text-align: right;\">\n",
       "      <th></th>\n",
       "      <th>name</th>\n",
       "      <th>year</th>\n",
       "      <th>selling_price</th>\n",
       "      <th>km_driven</th>\n",
       "      <th>fuel</th>\n",
       "      <th>seller_type</th>\n",
       "      <th>transmission</th>\n",
       "      <th>owner</th>\n",
       "      <th>mileage kmpl/kg</th>\n",
       "      <th>max_power bhp</th>\n",
       "      <th>seats</th>\n",
       "    </tr>\n",
       "  </thead>\n",
       "  <tbody>\n",
       "    <tr>\n",
       "      <th>0</th>\n",
       "      <td>Maruti Swift Dzire VDI</td>\n",
       "      <td>2014</td>\n",
       "      <td>450000</td>\n",
       "      <td>145500</td>\n",
       "      <td>Diesel</td>\n",
       "      <td>Individual</td>\n",
       "      <td>Manual</td>\n",
       "      <td>First Owner</td>\n",
       "      <td>23.40</td>\n",
       "      <td>74.00</td>\n",
       "      <td>5.0</td>\n",
       "    </tr>\n",
       "    <tr>\n",
       "      <th>1</th>\n",
       "      <td>Skoda Rapid 1.5 TDI Ambition</td>\n",
       "      <td>2014</td>\n",
       "      <td>370000</td>\n",
       "      <td>120000</td>\n",
       "      <td>Diesel</td>\n",
       "      <td>Individual</td>\n",
       "      <td>Manual</td>\n",
       "      <td>Second Owner</td>\n",
       "      <td>21.14</td>\n",
       "      <td>103.52</td>\n",
       "      <td>5.0</td>\n",
       "    </tr>\n",
       "    <tr>\n",
       "      <th>2</th>\n",
       "      <td>Honda City 2017-2020 EXi</td>\n",
       "      <td>2006</td>\n",
       "      <td>158000</td>\n",
       "      <td>140000</td>\n",
       "      <td>Petrol</td>\n",
       "      <td>Individual</td>\n",
       "      <td>Manual</td>\n",
       "      <td>Third Owner</td>\n",
       "      <td>17.70</td>\n",
       "      <td>78.00</td>\n",
       "      <td>5.0</td>\n",
       "    </tr>\n",
       "    <tr>\n",
       "      <th>3</th>\n",
       "      <td>Hyundai i20 Sportz Diesel</td>\n",
       "      <td>2010</td>\n",
       "      <td>225000</td>\n",
       "      <td>127000</td>\n",
       "      <td>Diesel</td>\n",
       "      <td>Individual</td>\n",
       "      <td>Manual</td>\n",
       "      <td>First Owner</td>\n",
       "      <td>23.00</td>\n",
       "      <td>90.00</td>\n",
       "      <td>5.0</td>\n",
       "    </tr>\n",
       "    <tr>\n",
       "      <th>4</th>\n",
       "      <td>Maruti Swift VXI BSIII</td>\n",
       "      <td>2007</td>\n",
       "      <td>130000</td>\n",
       "      <td>120000</td>\n",
       "      <td>Petrol</td>\n",
       "      <td>Individual</td>\n",
       "      <td>Manual</td>\n",
       "      <td>First Owner</td>\n",
       "      <td>16.10</td>\n",
       "      <td>88.20</td>\n",
       "      <td>5.0</td>\n",
       "    </tr>\n",
       "  </tbody>\n",
       "</table>\n",
       "</div>"
      ],
      "text/plain": [
       "                           name  year  selling_price  km_driven    fuel  \\\n",
       "0        Maruti Swift Dzire VDI  2014         450000     145500  Diesel   \n",
       "1  Skoda Rapid 1.5 TDI Ambition  2014         370000     120000  Diesel   \n",
       "2      Honda City 2017-2020 EXi  2006         158000     140000  Petrol   \n",
       "3     Hyundai i20 Sportz Diesel  2010         225000     127000  Diesel   \n",
       "4        Maruti Swift VXI BSIII  2007         130000     120000  Petrol   \n",
       "\n",
       "  seller_type transmission         owner  mileage kmpl/kg  max_power bhp  \\\n",
       "0  Individual       Manual   First Owner            23.40          74.00   \n",
       "1  Individual       Manual  Second Owner            21.14         103.52   \n",
       "2  Individual       Manual   Third Owner            17.70          78.00   \n",
       "3  Individual       Manual   First Owner            23.00          90.00   \n",
       "4  Individual       Manual   First Owner            16.10          88.20   \n",
       "\n",
       "   seats  \n",
       "0    5.0  \n",
       "1    5.0  \n",
       "2    5.0  \n",
       "3    5.0  \n",
       "4    5.0  "
      ]
     },
     "execution_count": 137,
     "metadata": {},
     "output_type": "execute_result"
    }
   ],
   "source": [
    "df.head()"
   ]
  },
  {
   "cell_type": "code",
   "execution_count": 138,
   "metadata": {},
   "outputs": [],
   "source": [
    "df.drop(['name'],axis=1,inplace=True)"
   ]
  },
  {
   "cell_type": "code",
   "execution_count": 139,
   "metadata": {},
   "outputs": [
    {
     "data": {
      "text/html": [
       "<div>\n",
       "<style scoped>\n",
       "    .dataframe tbody tr th:only-of-type {\n",
       "        vertical-align: middle;\n",
       "    }\n",
       "\n",
       "    .dataframe tbody tr th {\n",
       "        vertical-align: top;\n",
       "    }\n",
       "\n",
       "    .dataframe thead th {\n",
       "        text-align: right;\n",
       "    }\n",
       "</style>\n",
       "<table border=\"1\" class=\"dataframe\">\n",
       "  <thead>\n",
       "    <tr style=\"text-align: right;\">\n",
       "      <th></th>\n",
       "      <th>year</th>\n",
       "      <th>selling_price</th>\n",
       "      <th>km_driven</th>\n",
       "      <th>fuel</th>\n",
       "      <th>seller_type</th>\n",
       "      <th>transmission</th>\n",
       "      <th>owner</th>\n",
       "      <th>mileage kmpl/kg</th>\n",
       "      <th>max_power bhp</th>\n",
       "      <th>seats</th>\n",
       "    </tr>\n",
       "  </thead>\n",
       "  <tbody>\n",
       "    <tr>\n",
       "      <th>0</th>\n",
       "      <td>2014</td>\n",
       "      <td>450000</td>\n",
       "      <td>145500</td>\n",
       "      <td>Diesel</td>\n",
       "      <td>Individual</td>\n",
       "      <td>Manual</td>\n",
       "      <td>First Owner</td>\n",
       "      <td>23.40</td>\n",
       "      <td>74.00</td>\n",
       "      <td>5.0</td>\n",
       "    </tr>\n",
       "    <tr>\n",
       "      <th>1</th>\n",
       "      <td>2014</td>\n",
       "      <td>370000</td>\n",
       "      <td>120000</td>\n",
       "      <td>Diesel</td>\n",
       "      <td>Individual</td>\n",
       "      <td>Manual</td>\n",
       "      <td>Second Owner</td>\n",
       "      <td>21.14</td>\n",
       "      <td>103.52</td>\n",
       "      <td>5.0</td>\n",
       "    </tr>\n",
       "  </tbody>\n",
       "</table>\n",
       "</div>"
      ],
      "text/plain": [
       "   year  selling_price  km_driven    fuel seller_type transmission  \\\n",
       "0  2014         450000     145500  Diesel  Individual       Manual   \n",
       "1  2014         370000     120000  Diesel  Individual       Manual   \n",
       "\n",
       "          owner  mileage kmpl/kg  max_power bhp  seats  \n",
       "0   First Owner            23.40          74.00    5.0  \n",
       "1  Second Owner            21.14         103.52    5.0  "
      ]
     },
     "execution_count": 139,
     "metadata": {},
     "output_type": "execute_result"
    }
   ],
   "source": [
    "df.head(2)"
   ]
  },
  {
   "cell_type": "code",
   "execution_count": 140,
   "metadata": {},
   "outputs": [
    {
     "data": {
      "text/plain": [
       "year               0\n",
       "selling_price      0\n",
       "km_driven          0\n",
       "fuel               0\n",
       "seller_type        0\n",
       "transmission       0\n",
       "owner              0\n",
       "mileage kmpl/kg    0\n",
       "max_power bhp      0\n",
       "seats              0\n",
       "dtype: int64"
      ]
     },
     "execution_count": 140,
     "metadata": {},
     "output_type": "execute_result"
    }
   ],
   "source": [
    "df.isnull().sum()"
   ]
  },
  {
   "cell_type": "code",
   "execution_count": 141,
   "metadata": {},
   "outputs": [
    {
     "data": {
      "text/plain": [
       "1221"
      ]
     },
     "execution_count": 141,
     "metadata": {},
     "output_type": "execute_result"
    }
   ],
   "source": [
    "df.duplicated().sum()"
   ]
  },
  {
   "cell_type": "code",
   "execution_count": 142,
   "metadata": {},
   "outputs": [],
   "source": [
    "df.drop_duplicates(inplace=True)"
   ]
  },
  {
   "cell_type": "code",
   "execution_count": 143,
   "metadata": {},
   "outputs": [
    {
     "data": {
      "text/plain": [
       "(6907, 10)"
      ]
     },
     "execution_count": 143,
     "metadata": {},
     "output_type": "execute_result"
    }
   ],
   "source": [
    "df.shape"
   ]
  },
  {
   "cell_type": "code",
   "execution_count": 144,
   "metadata": {},
   "outputs": [
    {
     "data": {
      "text/plain": [
       "69070"
      ]
     },
     "execution_count": 144,
     "metadata": {},
     "output_type": "execute_result"
    }
   ],
   "source": [
    "df.size"
   ]
  },
  {
   "cell_type": "code",
   "execution_count": 145,
   "metadata": {},
   "outputs": [
    {
     "data": {
      "text/html": [
       "<div>\n",
       "<style scoped>\n",
       "    .dataframe tbody tr th:only-of-type {\n",
       "        vertical-align: middle;\n",
       "    }\n",
       "\n",
       "    .dataframe tbody tr th {\n",
       "        vertical-align: top;\n",
       "    }\n",
       "\n",
       "    .dataframe thead th {\n",
       "        text-align: right;\n",
       "    }\n",
       "</style>\n",
       "<table border=\"1\" class=\"dataframe\">\n",
       "  <thead>\n",
       "    <tr style=\"text-align: right;\">\n",
       "      <th></th>\n",
       "      <th>year</th>\n",
       "      <th>selling_price</th>\n",
       "      <th>km_driven</th>\n",
       "      <th>mileage kmpl/kg</th>\n",
       "      <th>max_power bhp</th>\n",
       "      <th>seats</th>\n",
       "    </tr>\n",
       "  </thead>\n",
       "  <tbody>\n",
       "    <tr>\n",
       "      <th>count</th>\n",
       "      <td>6907.000000</td>\n",
       "      <td>6.907000e+03</td>\n",
       "      <td>6.907000e+03</td>\n",
       "      <td>6907.000000</td>\n",
       "      <td>6907.000000</td>\n",
       "      <td>6907.000000</td>\n",
       "    </tr>\n",
       "    <tr>\n",
       "      <th>mean</th>\n",
       "      <td>2013.416679</td>\n",
       "      <td>5.174456e+05</td>\n",
       "      <td>7.400715e+04</td>\n",
       "      <td>19.462988</td>\n",
       "      <td>87.860463</td>\n",
       "      <td>5.433948</td>\n",
       "    </tr>\n",
       "    <tr>\n",
       "      <th>std</th>\n",
       "      <td>4.080794</td>\n",
       "      <td>5.203562e+05</td>\n",
       "      <td>5.836081e+04</td>\n",
       "      <td>3.988998</td>\n",
       "      <td>31.314519</td>\n",
       "      <td>0.969585</td>\n",
       "    </tr>\n",
       "    <tr>\n",
       "      <th>min</th>\n",
       "      <td>1983.000000</td>\n",
       "      <td>2.999900e+04</td>\n",
       "      <td>1.000000e+00</td>\n",
       "      <td>0.000000</td>\n",
       "      <td>0.000000</td>\n",
       "      <td>2.000000</td>\n",
       "    </tr>\n",
       "    <tr>\n",
       "      <th>25%</th>\n",
       "      <td>2011.000000</td>\n",
       "      <td>2.500000e+05</td>\n",
       "      <td>4.000000e+04</td>\n",
       "      <td>16.950000</td>\n",
       "      <td>68.000000</td>\n",
       "      <td>5.000000</td>\n",
       "    </tr>\n",
       "    <tr>\n",
       "      <th>50%</th>\n",
       "      <td>2014.000000</td>\n",
       "      <td>4.000000e+05</td>\n",
       "      <td>7.000000e+04</td>\n",
       "      <td>19.418783</td>\n",
       "      <td>81.860000</td>\n",
       "      <td>5.000000</td>\n",
       "    </tr>\n",
       "    <tr>\n",
       "      <th>75%</th>\n",
       "      <td>2017.000000</td>\n",
       "      <td>6.345000e+05</td>\n",
       "      <td>1.000000e+05</td>\n",
       "      <td>22.320000</td>\n",
       "      <td>99.000000</td>\n",
       "      <td>5.000000</td>\n",
       "    </tr>\n",
       "    <tr>\n",
       "      <th>max</th>\n",
       "      <td>2020.000000</td>\n",
       "      <td>1.000000e+07</td>\n",
       "      <td>2.360457e+06</td>\n",
       "      <td>42.000000</td>\n",
       "      <td>400.000000</td>\n",
       "      <td>14.000000</td>\n",
       "    </tr>\n",
       "  </tbody>\n",
       "</table>\n",
       "</div>"
      ],
      "text/plain": [
       "              year  selling_price     km_driven  mileage kmpl/kg  \\\n",
       "count  6907.000000   6.907000e+03  6.907000e+03      6907.000000   \n",
       "mean   2013.416679   5.174456e+05  7.400715e+04        19.462988   \n",
       "std       4.080794   5.203562e+05  5.836081e+04         3.988998   \n",
       "min    1983.000000   2.999900e+04  1.000000e+00         0.000000   \n",
       "25%    2011.000000   2.500000e+05  4.000000e+04        16.950000   \n",
       "50%    2014.000000   4.000000e+05  7.000000e+04        19.418783   \n",
       "75%    2017.000000   6.345000e+05  1.000000e+05        22.320000   \n",
       "max    2020.000000   1.000000e+07  2.360457e+06        42.000000   \n",
       "\n",
       "       max_power bhp        seats  \n",
       "count    6907.000000  6907.000000  \n",
       "mean       87.860463     5.433948  \n",
       "std        31.314519     0.969585  \n",
       "min         0.000000     2.000000  \n",
       "25%        68.000000     5.000000  \n",
       "50%        81.860000     5.000000  \n",
       "75%        99.000000     5.000000  \n",
       "max       400.000000    14.000000  "
      ]
     },
     "execution_count": 145,
     "metadata": {},
     "output_type": "execute_result"
    }
   ],
   "source": [
    "df.describe()"
   ]
  },
  {
   "cell_type": "code",
   "execution_count": 146,
   "metadata": {},
   "outputs": [],
   "source": [
    "cat_col=df.select_dtypes('object')\n",
    "num_col=df.select_dtypes('int64','float64')"
   ]
  },
  {
   "cell_type": "code",
   "execution_count": 147,
   "metadata": {},
   "outputs": [
    {
     "data": {
      "text/plain": [
       "Index(['fuel', 'seller_type', 'transmission', 'owner'], dtype='object')"
      ]
     },
     "execution_count": 147,
     "metadata": {},
     "output_type": "execute_result"
    }
   ],
   "source": [
    "cat_col.columns"
   ]
  },
  {
   "cell_type": "code",
   "execution_count": 148,
   "metadata": {},
   "outputs": [
    {
     "data": {
      "text/plain": [
       "Index(['year', 'selling_price', 'km_driven'], dtype='object')"
      ]
     },
     "execution_count": 148,
     "metadata": {},
     "output_type": "execute_result"
    }
   ],
   "source": [
    "num_col.columns"
   ]
  },
  {
   "cell_type": "code",
   "execution_count": 149,
   "metadata": {},
   "outputs": [
    {
     "data": {
      "image/png": "[encoded data removed]",
      "text/plain": [
       "<Figure size 600x300 with 1 Axes>"
      ]
     },
     "metadata": {},
     "output_type": "display_data"
    },
    {
     "data": {
      "image/png": "[encoded data removed]",
      "text/plain": [
       "<Figure size 600x300 with 1 Axes>"
      ]
     },
     "metadata": {},
     "output_type": "display_data"
    },
    {
     "data": {
      "image/png": "[encoded data removed]",
      "text/plain": [
       "<Figure size 600x300 with 1 Axes>"
      ]
     },
     "metadata": {},
     "output_type": "display_data"
    }
   ],
   "source": [
    "for col in num_col:\n",
    "    plt.figure(figsize=(6,3))\n",
    "    sns.boxplot(x=df[col])\n",
    "    plt.show()"
   ]
  },
  {
   "cell_type": "code",
   "execution_count": 150,
   "metadata": {},
   "outputs": [
    {
     "data": {
      "image/png": "[encoded data removed]",
      "text/plain": [
       "<Figure size 600x300 with 1 Axes>"
      ]
     },
     "metadata": {},
     "output_type": "display_data"
    },
    {
     "data": {
      "image/png": "[encoded data removed]",
      "text/plain": [
       "<Figure size 600x300 with 1 Axes>"
      ]
     },
     "metadata": {},
     "output_type": "display_data"
    },
    {
     "data": {
      "image/png": "[encoded data removed]",
      "text/plain": [
       "<Figure size 600x300 with 1 Axes>"
      ]
     },
     "metadata": {},
     "output_type": "display_data"
    }
   ],
   "source": [
    "for col in num_col:\n",
    "    plt.figure(figsize=(6,3))\n",
    "    sns.distplot(df[col])\n",
    "    plt.show()"
   ]
  },
  {
   "cell_type": "code",
   "execution_count": null,
   "metadata": {},
   "outputs": [],
   "source": []
  }
 ],
 "metadata": {
  "kernelspec": {
   "display_name": "Python 3",
   "language": "python",
   "name": "python3"
  },
  "language_info": {
   "codemirror_mode": {
    "name": "ipython",
    "version": 3
   },
   "file_extension": ".py",
   "mimetype": "text/x-python",
   "name": "python",
   "nbconvert_exporter": "python",
   "pygments_lexer": "ipython3",
   "version": "3.12.1"
  }
 },
 "nbformat": 4,
 "nbformat_minor": 2
}
